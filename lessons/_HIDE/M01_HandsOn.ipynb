{
 "cells": [
  {
   "cell_type": "markdown",
   "id": "7f533a49-1a1f-43b7-b51c-92b6467f08fa",
   "metadata": {
    "jp-MarkdownHeadingCollapsed": true,
    "slideshow": {
     "slide_type": "slide"
    },
    "tags": []
   },
   "source": [
    "# Hands on Text Processing\n",
    "\n",
    "DS 7008\n",
    "\n",
    "Raf Alvarado\n",
    "\n",
    "12 March 2024\n"
   ]
  },
  {
   "cell_type": "markdown",
   "id": "8a623111-c74a-405e-bdc5-a53ccfc2ba66",
   "metadata": {
    "slideshow": {
     "slide_type": "slide"
    },
    "tags": []
   },
   "source": [
    "# Overview\n",
    "\n",
    "1. Collect\n",
    "2. Learn\n",
    "3. Parse\n",
    "4. Annotate\n",
    "5. Vectorize\n",
    "6. Model"
   ]
  },
  {
   "cell_type": "markdown",
   "id": "19678d95-093e-46d7-a8c2-8608d77f7720",
   "metadata": {
    "slideshow": {
     "slide_type": "slide"
    },
    "tags": []
   },
   "source": [
    "# Tools\n",
    "\n",
    "- Git and GitHub\n",
    "- Rivanna\n",
    "- Gensim"
   ]
  },
  {
   "cell_type": "markdown",
   "id": "73fe87f5-1f84-43b9-ae3b-345aed710cb6",
   "metadata": {},
   "source": [
    "# Core Concepts\n",
    "\n",
    "The core concepts of ``gensim`` are:\n",
    "\n",
    "1. **document**: some text.\n",
    "2. **corpus**: a collection of documents.\n",
    "3. **vector**: a mathematically convenient representation of a document.\n",
    "4. **model**: an algorithm for transforming vectors from one representation to another."
   ]
  },
  {
   "cell_type": "markdown",
   "id": "3a50e263-a59d-4ca0-ae59-360768716fb4",
   "metadata": {},
   "source": [
    "# Example\n",
    "\n",
    "Here is an example corpus:"
   ]
  },
  {
   "cell_type": "code",
   "execution_count": 77,
   "id": "2894b281-fe88-4eb5-acbf-b20b586236ee",
   "metadata": {
    "collapsed": false,
    "jupyter": {
     "outputs_hidden": false
    },
    "tags": []
   },
   "outputs": [],
   "source": [
    "corpus_raw = [\n",
    "    \"Human machine interface for lab abc computer applications\",\n",
    "    \"A survey of user opinion of computer system response time\",\n",
    "    \"The EPS user interface management system\",\n",
    "    \"System and human system engineering testing of EPS\",\n",
    "    \"Relation of user perceived response time to error measurement\",\n",
    "    \"The generation of random binary unordered trees\",\n",
    "    \"The intersection graph of paths in trees\",\n",
    "    \"Graph minors IV Widths of trees and well quasi ordering\",\n",
    "    \"Graph minors A survey\",\n",
    "]"
   ]
  },
  {
   "cell_type": "markdown",
   "id": "1244a159-5332-40c1-8d3c-b27ebe7a0572",
   "metadata": {},
   "source": [
    "Here's how we convert these data into a corpus object."
   ]
  },
  {
   "cell_type": "markdown",
   "id": "1c60e5b2-a8d9-48fd-b208-0510e8fb1cbb",
   "metadata": {
    "jupyter": {
     "outputs_hidden": false
    },
    "tags": []
   },
   "source": [
    "Create a set of frequent words."
   ]
  },
  {
   "cell_type": "code",
   "execution_count": 34,
   "id": "ad3f8fa1-9081-4c8e-859a-5c7aaf4bb2ac",
   "metadata": {
    "collapsed": false,
    "jupyter": {
     "outputs_hidden": false
    },
    "tags": []
   },
   "outputs": [],
   "source": [
    "stoplist = set('for a of the and to in'.split(' '))"
   ]
  },
  {
   "cell_type": "markdown",
   "id": "6e53aeec-b650-44a7-bc70-bce843ce9afb",
   "metadata": {},
   "source": [
    "Create a list of lists from the raw corpus."
   ]
  },
  {
   "cell_type": "code",
   "execution_count": 79,
   "id": "ee81944d-eca1-4714-8156-3bcfb72b33bd",
   "metadata": {
    "tags": []
   },
   "outputs": [],
   "source": [
    "corpus = []\n",
    "for doc in corpus_raw:\n",
    "    doclist = []\n",
    "    for word in doc.split():\n",
    "        word = word.lower()\n",
    "        if word not in stoplist:\n",
    "            doclist.append(word)\n",
    "    corpus.append(doclist)"
   ]
  },
  {
   "cell_type": "code",
   "execution_count": 80,
   "id": "4cfe5aa6-3f53-4782-ab13-7a617be02061",
   "metadata": {
    "tags": []
   },
   "outputs": [
    {
     "data": {
      "text/plain": [
       "[['human', 'machine', 'interface', 'lab', 'abc', 'computer', 'applications'],\n",
       " ['survey', 'user', 'opinion', 'computer', 'system', 'response', 'time'],\n",
       " ['eps', 'user', 'interface', 'management', 'system'],\n",
       " ['system', 'human', 'system', 'engineering', 'testing', 'eps'],\n",
       " ['relation', 'user', 'perceived', 'response', 'time', 'error', 'measurement'],\n",
       " ['generation', 'random', 'binary', 'unordered', 'trees'],\n",
       " ['intersection', 'graph', 'paths', 'trees'],\n",
       " ['graph', 'minors', 'iv', 'widths', 'trees', 'well', 'quasi', 'ordering'],\n",
       " ['graph', 'minors', 'survey']]"
      ]
     },
     "execution_count": 80,
     "metadata": {},
     "output_type": "execute_result"
    }
   ],
   "source": [
    "corpus"
   ]
  },
  {
   "cell_type": "markdown",
   "id": "124e1153-531b-4ad2-a1fd-15fc606c5965",
   "metadata": {
    "jupyter": {
     "outputs_hidden": false
    },
    "tags": []
   },
   "source": [
    "Count word frequencies."
   ]
  },
  {
   "cell_type": "code",
   "execution_count": 88,
   "id": "a62b2991-2aba-4ef5-bab4-59b4291f348a",
   "metadata": {
    "collapsed": false,
    "jupyter": {
     "outputs_hidden": false
    },
    "tags": []
   },
   "outputs": [],
   "source": [
    "from collections import defaultdict\n",
    "\n",
    "frequency = defaultdict(int)\n",
    "for doc in corpus:\n",
    "    for token in doc:\n",
    "        frequency[token] += 1"
   ]
  },
  {
   "cell_type": "markdown",
   "id": "fab791ca-15ba-4348-84bb-dfea1582d9dd",
   "metadata": {
    "jupyter": {
     "outputs_hidden": false
    },
    "tags": []
   },
   "source": [
    "Only keep words that appear more than once"
   ]
  },
  {
   "cell_type": "code",
   "execution_count": 91,
   "id": "a5ba574c-23ff-4887-a23f-4914ed9523c5",
   "metadata": {
    "collapsed": false,
    "jupyter": {
     "outputs_hidden": false
    },
    "tags": []
   },
   "outputs": [],
   "source": [
    "corpus_processed = []\n",
    "for doc in corpus:\n",
    "    doclist = []\n",
    "    for token in doc:\n",
    "        if frequency[token] > 1:\n",
    "            doclist.append(token)\n",
    "    corpus_processed.append(doclist)"
   ]
  },
  {
   "cell_type": "code",
   "execution_count": 92,
   "id": "ca7fc1aa-5603-465c-ab4a-0c11bc676781",
   "metadata": {
    "tags": []
   },
   "outputs": [
    {
     "data": {
      "text/plain": [
       "[['human', 'interface', 'computer'],\n",
       " ['survey', 'user', 'computer', 'system', 'response', 'time'],\n",
       " ['eps', 'user', 'interface', 'system'],\n",
       " ['system', 'human', 'system', 'eps'],\n",
       " ['user', 'response', 'time'],\n",
       " ['trees'],\n",
       " ['graph', 'trees'],\n",
       " ['graph', 'minors', 'trees'],\n",
       " ['graph', 'minors', 'survey']]"
      ]
     },
     "execution_count": 92,
     "metadata": {},
     "output_type": "execute_result"
    }
   ],
   "source": [
    "corpus_processed"
   ]
  },
  {
   "cell_type": "markdown",
   "id": "3e5ee4b5-2f58-4152-a2c4-3a2e166dce2b",
   "metadata": {},
   "source": [
    "# Create a Dictionary"
   ]
  },
  {
   "cell_type": "code",
   "execution_count": 93,
   "id": "e4a5649c-aa51-4e44-96e2-b599b850a7bd",
   "metadata": {
    "collapsed": false,
    "jupyter": {
     "outputs_hidden": false
    },
    "tags": []
   },
   "outputs": [],
   "source": [
    "from gensim import corpora"
   ]
  },
  {
   "cell_type": "code",
   "execution_count": 95,
   "id": "32e5ffbb-1823-46e4-bfdf-b7b67390ea02",
   "metadata": {
    "collapsed": false,
    "jupyter": {
     "outputs_hidden": false
    },
    "tags": []
   },
   "outputs": [],
   "source": [
    "dictionary = corpora.Dictionary(corpus_processed)"
   ]
  },
  {
   "cell_type": "code",
   "execution_count": 96,
   "id": "bf9078af-df82-4c4a-90ae-964628b1de13",
   "metadata": {
    "tags": []
   },
   "outputs": [
    {
     "name": "stdout",
     "output_type": "stream",
     "text": [
      "Dictionary<12 unique tokens: ['computer', 'human', 'interface', 'response', 'survey']...>\n"
     ]
    }
   ],
   "source": [
    "print(dictionary)"
   ]
  },
  {
   "cell_type": "code",
   "execution_count": 97,
   "id": "751b83ca-2015-4551-9148-efa3dbbb4d75",
   "metadata": {
    "collapsed": false,
    "jupyter": {
     "outputs_hidden": false
    },
    "tags": []
   },
   "outputs": [
    {
     "name": "stdout",
     "output_type": "stream",
     "text": [
      "{'computer': 0, 'human': 1, 'interface': 2, 'response': 3, 'survey': 4, 'system': 5, 'time': 6, 'user': 7, 'eps': 8, 'trees': 9, 'graph': 10, 'minors': 11}\n"
     ]
    }
   ],
   "source": [
    "print(dictionary.token2id)"
   ]
  },
  {
   "cell_type": "markdown",
   "id": "ae2a6292-690a-4522-9b87-53567769ca03",
   "metadata": {},
   "source": [
    "# Vectorize\n",
    "\n",
    "We create a bag-of-word representation of the corpus."
   ]
  },
  {
   "cell_type": "code",
   "execution_count": 99,
   "id": "97cc03c3-331d-4564-a2ab-6b03f6c56aa3",
   "metadata": {
    "tags": []
   },
   "outputs": [],
   "source": [
    "bow = []\n",
    "for text in corpus_processed:\n",
    "    bow.append(dictionary.doc2bow(text))"
   ]
  },
  {
   "cell_type": "code",
   "execution_count": 100,
   "id": "6b66d472-1b14-4d52-a6b1-23143c7c90a3",
   "metadata": {
    "tags": []
   },
   "outputs": [
    {
     "data": {
      "text/plain": [
       "[[(0, 1), (1, 1), (2, 1)],\n",
       " [(0, 1), (3, 1), (4, 1), (5, 1), (6, 1), (7, 1)],\n",
       " [(2, 1), (5, 1), (7, 1), (8, 1)],\n",
       " [(1, 1), (5, 2), (8, 1)],\n",
       " [(3, 1), (6, 1), (7, 1)],\n",
       " [(9, 1)],\n",
       " [(9, 1), (10, 1)],\n",
       " [(9, 1), (10, 1), (11, 1)],\n",
       " [(4, 1), (10, 1), (11, 1)]]"
      ]
     },
     "execution_count": 100,
     "metadata": {},
     "output_type": "execute_result"
    }
   ],
   "source": [
    "bow"
   ]
  },
  {
   "cell_type": "markdown",
   "id": "ac1d14f2-2c4a-4701-bf2d-3b0c16afc3b8",
   "metadata": {},
   "source": [
    "# Significant Words"
   ]
  },
  {
   "cell_type": "code",
   "execution_count": 113,
   "id": "09b9f293-4238-4bfe-a02c-6d2721512714",
   "metadata": {
    "collapsed": false,
    "jupyter": {
     "outputs_hidden": false
    },
    "tags": []
   },
   "outputs": [],
   "source": [
    "from gensim import models"
   ]
  },
  {
   "cell_type": "code",
   "execution_count": 114,
   "id": "64f809f4-b0ce-419c-b623-b6cf0d92e2ee",
   "metadata": {
    "collapsed": false,
    "jupyter": {
     "outputs_hidden": false
    },
    "tags": []
   },
   "outputs": [],
   "source": [
    "tfidf = models.TfidfModel(bow)"
   ]
  },
  {
   "cell_type": "code",
   "execution_count": 127,
   "id": "38223b79-2ece-41cb-ae7e-a4fd51db493f",
   "metadata": {
    "tags": []
   },
   "outputs": [
    {
     "data": {
      "text/plain": [
       "[(5, 1.0)]"
      ]
     },
     "execution_count": 127,
     "metadata": {},
     "output_type": "execute_result"
    }
   ],
   "source": [
    "tfidf[dictionary.doc2bow(['system'])]"
   ]
  },
  {
   "cell_type": "code",
   "execution_count": 116,
   "id": "78b9685d-70eb-4563-94cf-1034055c44e5",
   "metadata": {
    "collapsed": false,
    "jupyter": {
     "outputs_hidden": false
    },
    "tags": []
   },
   "outputs": [
    {
     "name": "stdout",
     "output_type": "stream",
     "text": [
      "[(5, 0.5898341626740045), (11, 0.8075244024440723)]\n"
     ]
    }
   ],
   "source": [
    "words = \"system minors\".lower().split()\n",
    "print(tfidf[dictionary.doc2bow(words)])"
   ]
  },
  {
   "cell_type": "code",
   "execution_count": 117,
   "id": "49168095-ec58-4f28-afa6-39bab357e984",
   "metadata": {
    "collapsed": false,
    "jupyter": {
     "outputs_hidden": false
    },
    "tags": []
   },
   "outputs": [],
   "source": [
    "from gensim import similarities\n",
    "\n",
    "index = similarities.SparseMatrixSimilarity(tfidf[bow_corpus], num_features=12)"
   ]
  },
  {
   "cell_type": "code",
   "execution_count": 118,
   "id": "d37bb090-219f-42c7-a22a-a9964626f621",
   "metadata": {
    "tags": []
   },
   "outputs": [
    {
     "data": {
      "text/plain": [
       "<gensim.similarities.docsim.SparseMatrixSimilarity at 0x7fae8f419d10>"
      ]
     },
     "execution_count": 118,
     "metadata": {},
     "output_type": "execute_result"
    }
   ],
   "source": [
    "index"
   ]
  },
  {
   "cell_type": "code",
   "execution_count": 121,
   "id": "7024d205-3be5-46c2-b855-07546e765abf",
   "metadata": {
    "collapsed": false,
    "jupyter": {
     "outputs_hidden": false
    },
    "tags": []
   },
   "outputs": [
    {
     "name": "stdout",
     "output_type": "stream",
     "text": [
      "[(0, 0.0), (1, 0.32448703), (2, 0.41707572), (3, 0.7184812), (4, 0.0), (5, 0.0), (6, 0.0), (7, 0.0), (8, 0.0)]\n"
     ]
    }
   ],
   "source": [
    "query_document = 'system engineering'.split()\n",
    "query_bow = dictionary.doc2bow(query_document)\n",
    "sims = index[tfidf[query_bow]]\n",
    "print(list(enumerate(sims)))"
   ]
  },
  {
   "cell_type": "code",
   "execution_count": 74,
   "id": "2cf2bbbf-9fdf-4183-93c0-171537508655",
   "metadata": {
    "collapsed": false,
    "jupyter": {
     "outputs_hidden": false
    },
    "tags": []
   },
   "outputs": [
    {
     "name": "stdout",
     "output_type": "stream",
     "text": [
      "3 0.7184812\n",
      "2 0.41707572\n",
      "1 0.32448703\n",
      "0 0.0\n",
      "4 0.0\n",
      "5 0.0\n",
      "6 0.0\n",
      "7 0.0\n",
      "8 0.0\n"
     ]
    }
   ],
   "source": [
    "for document_number, score in sorted(enumerate(sims), key=lambda x: x[1], reverse=True):\n",
    "    print(document_number, score)"
   ]
  },
  {
   "cell_type": "code",
   "execution_count": null,
   "id": "d6431160-0188-406f-b10f-82d23aceee5c",
   "metadata": {},
   "outputs": [],
   "source": []
  }
 ],
 "metadata": {
  "kernelspec": {
   "display_name": "Python 3 (ipykernel)",
   "language": "python",
   "name": "python3"
  },
  "language_info": {
   "codemirror_mode": {
    "name": "ipython",
    "version": 3
   },
   "file_extension": ".py",
   "mimetype": "text/x-python",
   "name": "python",
   "nbconvert_exporter": "python",
   "pygments_lexer": "ipython3",
   "version": "3.11.4"
  }
 },
 "nbformat": 4,
 "nbformat_minor": 5
}
